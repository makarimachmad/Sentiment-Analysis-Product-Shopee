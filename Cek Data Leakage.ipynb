{
  "nbformat": 4,
  "nbformat_minor": 0,
  "metadata": {
    "colab": {
      "name": "Cek Data Leakage.ipynb",
      "provenance": [],
      "machine_shape": "hm"
    },
    "kernelspec": {
      "name": "python3",
      "display_name": "Python 3"
    },
    "accelerator": "GPU"
  },
  "cells": [
    {
      "cell_type": "markdown",
      "metadata": {
        "id": "ad5RKeEz1PSS",
        "colab_type": "text"
      },
      "source": [
        "1. IDE menggunakan Google Colab\n",
        "2. Data berada pada Google Drive"
      ]
    },
    {
      "cell_type": "markdown",
      "metadata": {
        "id": "-pJmSGsv1d2N",
        "colab_type": "text"
      },
      "source": [
        "Program ini untuk mencari tau apakah termasuk *leakage data* atau bukan"
      ]
    },
    {
      "cell_type": "code",
      "metadata": {
        "id": "FYO2nrN13FA_",
        "colab_type": "code",
        "colab": {}
      },
      "source": [
        "import os\n",
        "from google.colab import drive"
      ],
      "execution_count": null,
      "outputs": []
    },
    {
      "cell_type": "code",
      "metadata": {
        "id": "d7kBE9iF3Wmi",
        "colab_type": "code",
        "colab": {
          "base_uri": "https://localhost:8080/",
          "height": 34
        },
        "outputId": "7d3b21f8-36bb-47d2-abb8-5dd4502edba0"
      },
      "source": [
        "drive.mount('/content/drive/')"
      ],
      "execution_count": null,
      "outputs": [
        {
          "output_type": "stream",
          "text": [
            "Drive already mounted at /content/drive/; to attempt to forcibly remount, call drive.mount(\"/content/drive/\", force_remount=True).\n"
          ],
          "name": "stdout"
        }
      ]
    },
    {
      "cell_type": "code",
      "metadata": {
        "id": "6FprUz8j3l3i",
        "colab_type": "code",
        "colab": {
          "base_uri": "https://localhost:8080/",
          "height": 102
        },
        "outputId": "d0875d00-6dcb-44b9-f9d0-e4d687ebed46"
      },
      "source": [
        "lokasi_file = '/content/drive/My Drive/(lama) shopee-sentiment-analysis_dataset/'\n",
        "os.listdir(lokasi_file)"
      ],
      "execution_count": null,
      "outputs": [
        {
          "output_type": "execute_result",
          "data": {
            "text/plain": [
              "['sampleSubmission.csv',\n",
              " 'test.csv',\n",
              " 'train.csv',\n",
              " 'Kaggle Page_o',\n",
              " 'test_baru.csv']"
            ]
          },
          "metadata": {
            "tags": []
          },
          "execution_count": 5
        }
      ]
    },
    {
      "cell_type": "code",
      "metadata": {
        "id": "iyMXXWOc37wC",
        "colab_type": "code",
        "colab": {}
      },
      "source": [
        "import pandas as pd"
      ],
      "execution_count": null,
      "outputs": []
    },
    {
      "cell_type": "code",
      "metadata": {
        "id": "PPaOhbwT4AUF",
        "colab_type": "code",
        "colab": {
          "base_uri": "https://localhost:8080/",
          "height": 419
        },
        "outputId": "ab1e61db-6daa-4d4f-f2e8-de1b806e5000"
      },
      "source": [
        "dataset = pd.read_csv(lokasi_file + 'train.csv')\n",
        "dataset"
      ],
      "execution_count": null,
      "outputs": [
        {
          "output_type": "execute_result",
          "data": {
            "text/html": [
              "<div>\n",
              "<style scoped>\n",
              "    .dataframe tbody tr th:only-of-type {\n",
              "        vertical-align: middle;\n",
              "    }\n",
              "\n",
              "    .dataframe tbody tr th {\n",
              "        vertical-align: top;\n",
              "    }\n",
              "\n",
              "    .dataframe thead th {\n",
              "        text-align: right;\n",
              "    }\n",
              "</style>\n",
              "<table border=\"1\" class=\"dataframe\">\n",
              "  <thead>\n",
              "    <tr style=\"text-align: right;\">\n",
              "      <th></th>\n",
              "      <th>review_id</th>\n",
              "      <th>review</th>\n",
              "      <th>rating</th>\n",
              "    </tr>\n",
              "  </thead>\n",
              "  <tbody>\n",
              "    <tr>\n",
              "      <th>0</th>\n",
              "      <td>0</td>\n",
              "      <td>Ga disappointed neat products .. Meletot Hilsn...</td>\n",
              "      <td>1</td>\n",
              "    </tr>\n",
              "    <tr>\n",
              "      <th>1</th>\n",
              "      <td>1</td>\n",
              "      <td>Rdtanya replace broken glass, broken chargernya</td>\n",
              "      <td>1</td>\n",
              "    </tr>\n",
              "    <tr>\n",
              "      <th>2</th>\n",
              "      <td>2</td>\n",
              "      <td>Nyesel bngt dsni shopping antecedent photo mes...</td>\n",
              "      <td>1</td>\n",
              "    </tr>\n",
              "    <tr>\n",
              "      <th>3</th>\n",
              "      <td>3</td>\n",
              "      <td>Sent a light blue suit goods ga want a refund</td>\n",
              "      <td>1</td>\n",
              "    </tr>\n",
              "    <tr>\n",
              "      <th>4</th>\n",
              "      <td>4</td>\n",
              "      <td>Pendants came with dents and scratches on its ...</td>\n",
              "      <td>1</td>\n",
              "    </tr>\n",
              "    <tr>\n",
              "      <th>...</th>\n",
              "      <td>...</td>\n",
              "      <td>...</td>\n",
              "      <td>...</td>\n",
              "    </tr>\n",
              "    <tr>\n",
              "      <th>146806</th>\n",
              "      <td>146806</td>\n",
              "      <td>Excellent product quality delivery speed is ve...</td>\n",
              "      <td>5</td>\n",
              "    </tr>\n",
              "    <tr>\n",
              "      <th>146807</th>\n",
              "      <td>146807</td>\n",
              "      <td>thanks gan</td>\n",
              "      <td>5</td>\n",
              "    </tr>\n",
              "    <tr>\n",
              "      <th>146808</th>\n",
              "      <td>146808</td>\n",
              "      <td>Awesome awesome quality merchandise value CP ...</td>\n",
              "      <td>5</td>\n",
              "    </tr>\n",
              "    <tr>\n",
              "      <th>146809</th>\n",
              "      <td>146809</td>\n",
              "      <td>Nice Packing boxes made effective price .........</td>\n",
              "      <td>5</td>\n",
              "    </tr>\n",
              "    <tr>\n",
              "      <th>146810</th>\n",
              "      <td>146810</td>\n",
              "      <td>Excellent product quality excellent product p...</td>\n",
              "      <td>5</td>\n",
              "    </tr>\n",
              "  </tbody>\n",
              "</table>\n",
              "<p>146811 rows × 3 columns</p>\n",
              "</div>"
            ],
            "text/plain": [
              "        review_id                                             review  rating\n",
              "0               0  Ga disappointed neat products .. Meletot Hilsn...       1\n",
              "1               1    Rdtanya replace broken glass, broken chargernya       1\n",
              "2               2  Nyesel bngt dsni shopping antecedent photo mes...       1\n",
              "3               3      Sent a light blue suit goods ga want a refund       1\n",
              "4               4  Pendants came with dents and scratches on its ...       1\n",
              "...           ...                                                ...     ...\n",
              "146806     146806  Excellent product quality delivery speed is ve...       5\n",
              "146807     146807                                         thanks gan       5\n",
              "146808     146808   Awesome awesome quality merchandise value CP ...       5\n",
              "146809     146809  Nice Packing boxes made effective price .........       5\n",
              "146810     146810   Excellent product quality excellent product p...       5\n",
              "\n",
              "[146811 rows x 3 columns]"
            ]
          },
          "metadata": {
            "tags": []
          },
          "execution_count": 7
        }
      ]
    },
    {
      "cell_type": "code",
      "metadata": {
        "id": "BWSWNYlK4a6L",
        "colab_type": "code",
        "colab": {
          "base_uri": "https://localhost:8080/",
          "height": 419
        },
        "outputId": "bf686e45-1a95-4fde-f61d-752e4230413e"
      },
      "source": [
        "datatest = pd.read_csv(lokasi_file + 'test.csv')\n",
        "datatest"
      ],
      "execution_count": null,
      "outputs": [
        {
          "output_type": "execute_result",
          "data": {
            "text/html": [
              "<div>\n",
              "<style scoped>\n",
              "    .dataframe tbody tr th:only-of-type {\n",
              "        vertical-align: middle;\n",
              "    }\n",
              "\n",
              "    .dataframe tbody tr th {\n",
              "        vertical-align: top;\n",
              "    }\n",
              "\n",
              "    .dataframe thead th {\n",
              "        text-align: right;\n",
              "    }\n",
              "</style>\n",
              "<table border=\"1\" class=\"dataframe\">\n",
              "  <thead>\n",
              "    <tr style=\"text-align: right;\">\n",
              "      <th></th>\n",
              "      <th>review_id</th>\n",
              "      <th>review</th>\n",
              "    </tr>\n",
              "  </thead>\n",
              "  <tbody>\n",
              "    <tr>\n",
              "      <th>0</th>\n",
              "      <td>0</td>\n",
              "      <td>slow delivery</td>\n",
              "    </tr>\n",
              "    <tr>\n",
              "      <th>1</th>\n",
              "      <td>1</td>\n",
              "      <td>Dateng goods do not conform pesanan😔</td>\n",
              "    </tr>\n",
              "    <tr>\n",
              "      <th>2</th>\n",
              "      <td>2</td>\n",
              "      <td>PSN k its 20 other DTG</td>\n",
              "    </tr>\n",
              "    <tr>\n",
              "      <th>3</th>\n",
              "      <td>3</td>\n",
              "      <td>I am expected that it have a frame and painted...</td>\n",
              "    </tr>\n",
              "    <tr>\n",
              "      <th>4</th>\n",
              "      <td>4</td>\n",
              "      <td>The product quality is not good.</td>\n",
              "    </tr>\n",
              "    <tr>\n",
              "      <th>...</th>\n",
              "      <td>...</td>\n",
              "      <td>...</td>\n",
              "    </tr>\n",
              "    <tr>\n",
              "      <th>62913</th>\n",
              "      <td>62913</td>\n",
              "      <td>Has shipped It was the model that fits the cut...</td>\n",
              "    </tr>\n",
              "    <tr>\n",
              "      <th>62914</th>\n",
              "      <td>62914</td>\n",
              "      <td>Awesome awesome speed of the ship's value CP</td>\n",
              "    </tr>\n",
              "    <tr>\n",
              "      <th>62915</th>\n",
              "      <td>62915</td>\n",
              "      <td>but already in lebihin one of its usual size w...</td>\n",
              "    </tr>\n",
              "    <tr>\n",
              "      <th>62916</th>\n",
              "      <td>62916</td>\n",
              "      <td>The product quality is excellent.</td>\n",
              "    </tr>\n",
              "    <tr>\n",
              "      <th>62917</th>\n",
              "      <td>62917</td>\n",
              "      <td>Excellent product quality, original product, t...</td>\n",
              "    </tr>\n",
              "  </tbody>\n",
              "</table>\n",
              "<p>62918 rows × 2 columns</p>\n",
              "</div>"
            ],
            "text/plain": [
              "       review_id                                             review\n",
              "0              0                                      slow delivery\n",
              "1              1               Dateng goods do not conform pesanan😔\n",
              "2              2                             PSN k its 20 other DTG\n",
              "3              3  I am expected that it have a frame and painted...\n",
              "4              4                   The product quality is not good.\n",
              "...          ...                                                ...\n",
              "62913      62913  Has shipped It was the model that fits the cut...\n",
              "62914      62914       Awesome awesome speed of the ship's value CP\n",
              "62915      62915  but already in lebihin one of its usual size w...\n",
              "62916      62916                  The product quality is excellent.\n",
              "62917      62917  Excellent product quality, original product, t...\n",
              "\n",
              "[62918 rows x 2 columns]"
            ]
          },
          "metadata": {
            "tags": []
          },
          "execution_count": 8
        }
      ]
    },
    {
      "cell_type": "code",
      "metadata": {
        "id": "Z-E3lZmY8FAp",
        "colab_type": "code",
        "colab": {
          "base_uri": "https://localhost:8080/",
          "height": 34
        },
        "outputId": "487c2c8a-67c0-4d95-c51f-e0b6612c9d97"
      },
      "source": [
        "type(dataset['review'][1])"
      ],
      "execution_count": null,
      "outputs": [
        {
          "output_type": "execute_result",
          "data": {
            "text/plain": [
              "str"
            ]
          },
          "metadata": {
            "tags": []
          },
          "execution_count": 9
        }
      ]
    },
    {
      "cell_type": "code",
      "metadata": {
        "id": "P8s69p748Oum",
        "colab_type": "code",
        "colab": {
          "base_uri": "https://localhost:8080/",
          "height": 34
        },
        "outputId": "2c6cd500-3036-47ce-fa52-752f71ce8c28"
      },
      "source": [
        "type(dataset['rating'][1])"
      ],
      "execution_count": null,
      "outputs": [
        {
          "output_type": "execute_result",
          "data": {
            "text/plain": [
              "numpy.int64"
            ]
          },
          "metadata": {
            "tags": []
          },
          "execution_count": 10
        }
      ]
    },
    {
      "cell_type": "code",
      "metadata": {
        "id": "g5nrnHK24oxw",
        "colab_type": "code",
        "colab": {}
      },
      "source": [
        "review_set = set()"
      ],
      "execution_count": null,
      "outputs": []
    },
    {
      "cell_type": "code",
      "metadata": {
        "id": "w5CShjGr7MhU",
        "colab_type": "code",
        "colab": {}
      },
      "source": [
        "for data in dataset.itertuples():\n",
        "  review_set.add(data.review)"
      ],
      "execution_count": null,
      "outputs": []
    },
    {
      "cell_type": "code",
      "metadata": {
        "id": "OsJ_TmJM7d4C",
        "colab_type": "code",
        "colab": {}
      },
      "source": [
        "bantu = 0\n",
        "for data in datatest.itertuples():\n",
        "  if data.review in review_set:\n",
        "    bantu = bantu + 1"
      ],
      "execution_count": null,
      "outputs": []
    },
    {
      "cell_type": "code",
      "metadata": {
        "id": "VMlXlyS8756n",
        "colab_type": "code",
        "colab": {
          "base_uri": "https://localhost:8080/",
          "height": 119
        },
        "outputId": "02c19a7a-a942-41b5-d0ad-15ea4e195161"
      },
      "source": [
        "(dataset['rating'].value_counts()/len(dataset)).sort_index()"
      ],
      "execution_count": null,
      "outputs": [
        {
          "output_type": "execute_result",
          "data": {
            "text/plain": [
              "1    0.100708\n",
              "2    0.086540\n",
              "3    0.244811\n",
              "4    0.285163\n",
              "5    0.282779\n",
              "Name: rating, dtype: float64"
            ]
          },
          "metadata": {
            "tags": []
          },
          "execution_count": 16
        }
      ]
    },
    {
      "cell_type": "code",
      "metadata": {
        "id": "k6b4W1_m7s3t",
        "colab_type": "code",
        "colab": {
          "base_uri": "https://localhost:8080/",
          "height": 34
        },
        "outputId": "92f38fc6-ce6c-4646-f3f9-4eb220889ad7"
      },
      "source": [
        "print('Prosentase data leakage: ', bantu/datatest.shape[0])"
      ],
      "execution_count": null,
      "outputs": [
        {
          "output_type": "stream",
          "text": [
            "Prosentase data leakage:  0.6828411583330685\n"
          ],
          "name": "stdout"
        }
      ]
    },
    {
      "cell_type": "code",
      "metadata": {
        "id": "_PpKpvyUArV6",
        "colab_type": "code",
        "colab": {
          "base_uri": "https://localhost:8080/",
          "height": 34
        },
        "outputId": "0f1ef248-1ff5-4764-a760-6de009a466b9"
      },
      "source": [
        "if bantu/datatest.shape[0] > 0.5 :\n",
        "  print('data leakage')\n",
        "else :\n",
        "  print('bukan')"
      ],
      "execution_count": null,
      "outputs": [
        {
          "output_type": "stream",
          "text": [
            "data leakage\n"
          ],
          "name": "stdout"
        }
      ]
    }
  ]
}